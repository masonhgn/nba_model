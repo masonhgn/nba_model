{
 "cells": [
  {
   "cell_type": "code",
   "execution_count": 2,
   "metadata": {},
   "outputs": [
    {
     "name": "stdout",
     "output_type": "stream",
     "text": [
      "      Unnamed: 0   GAME_ID  TEAM_ID_HOME  TEAM_ID_AWAY  WIN_HOME  SCORE_HOME   \n",
      "0              0  21701072    1610612766    1610612763         1         140  \\\n",
      "1              1  21800856    1610612752    1610612755         0         111   \n",
      "2              2  22100286    1610612760    1610612764         0          99   \n",
      "3              3  22201040    1610612759    1610612742         0         128   \n",
      "4              4  21700386    1610612765    1610612738         0          81   \n",
      "...          ...       ...           ...           ...       ...         ...   \n",
      "8284        8284  22200999    1610612764    1610612737         0         107   \n",
      "8285        8285  22300693    1610612763    1610612744         0         101   \n",
      "8286        8286  21700459    1610612745    1610612747         0         116   \n",
      "8287        8287  22000773    1610612748    1610612763         0         112   \n",
      "8288        8288  21701229    1610612757    1610612762         1         102   \n",
      "\n",
      "      SCORE_AWAY        DATE  TURNOVERS_HOME  TURNOVERS_AWAY  \n",
      "0             79  2018-03-22               9              19  \n",
      "1            126  2019-02-13              12              15  \n",
      "2            101  2021-11-26              10              15  \n",
      "3            137  2023-03-15              10              19  \n",
      "4             91  2017-12-10              10              14  \n",
      "...          ...         ...             ...             ...  \n",
      "8284         114  2023-03-10              15              14  \n",
      "8285         121  2024-02-02              14              14  \n",
      "8286         122  2017-12-20              15              10  \n",
      "8287         124  2021-04-06              14              14  \n",
      "8288          93  2018-04-11              10              15  \n",
      "\n",
      "[8289 rows x 10 columns]\n"
     ]
    }
   ],
   "source": [
    "import pandas as pd\n",
    "import numpy as np\n",
    "\n",
    "df = pd.read_csv('games.csv')\n",
    "\n",
    "print(df)\n"
   ]
  },
  {
   "cell_type": "code",
   "execution_count": null,
   "metadata": {},
   "outputs": [],
   "source": []
  }
 ],
 "metadata": {
  "kernelspec": {
   "display_name": "Python 3",
   "language": "python",
   "name": "python3"
  },
  "language_info": {
   "codemirror_mode": {
    "name": "ipython",
    "version": 3
   },
   "file_extension": ".py",
   "mimetype": "text/x-python",
   "name": "python",
   "nbconvert_exporter": "python",
   "pygments_lexer": "ipython3",
   "version": "3.10.11"
  }
 },
 "nbformat": 4,
 "nbformat_minor": 2
}
